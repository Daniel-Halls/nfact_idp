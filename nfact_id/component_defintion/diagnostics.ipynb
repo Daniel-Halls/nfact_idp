{
 "cells": [
  {
   "cell_type": "code",
   "execution_count": 1,
   "id": "cc66ff2f",
   "metadata": {},
   "outputs": [],
   "source": [
    "from conilab.data_functions.image_handling import decompose_cifti\n",
    "import nibabel as nb\n",
    "from decouple import config\n",
    "import os"
   ]
  },
  {
   "cell_type": "code",
   "execution_count": 3,
   "id": "10d2c578",
   "metadata": {},
   "outputs": [],
   "source": [
    "decomp_dir = config(\"decomp_dir\")"
   ]
  },
  {
   "cell_type": "code",
   "execution_count": 5,
   "id": "b09d9674",
   "metadata": {},
   "outputs": [],
   "source": [
    "wm = nb.load(os.path.join(decomp_dir, \"components\", \"NMF\", \"decomp\", \"W_NMF_dim100.nii.gz\"))"
   ]
  },
  {
   "cell_type": "code",
   "execution_count": 6,
   "id": "cbed05b1",
   "metadata": {},
   "outputs": [],
   "source": [
    "wm_data = wm.get_fdata()"
   ]
  },
  {
   "cell_type": "code",
   "execution_count": 8,
   "id": "1e90727d",
   "metadata": {},
   "outputs": [
    {
     "ename": "TypeError",
     "evalue": "order must be str, not int",
     "output_type": "error",
     "traceback": [
      "\u001b[31m---------------------------------------------------------------------------\u001b[39m",
      "\u001b[31mTypeError\u001b[39m                                 Traceback (most recent call last)",
      "\u001b[36mCell\u001b[39m\u001b[36m \u001b[39m\u001b[32mIn[8]\u001b[39m\u001b[32m, line 1\u001b[39m\n\u001b[32m----> \u001b[39m\u001b[32m1\u001b[39m \u001b[43mwm_data\u001b[49m\u001b[43m.\u001b[49m\u001b[43mflatten\u001b[49m\u001b[43m(\u001b[49m\u001b[43m-\u001b[49m\u001b[32;43m1\u001b[39;49m\u001b[43m)\u001b[49m\n",
      "\u001b[31mTypeError\u001b[39m: order must be str, not int"
     ]
    }
   ],
   "source": [
    "wm_data.flatten(-1)"
   ]
  }
 ],
 "metadata": {
  "kernelspec": {
   "display_name": "mh",
   "language": "python",
   "name": "python3"
  },
  "language_info": {
   "codemirror_mode": {
    "name": "ipython",
    "version": 3
   },
   "file_extension": ".py",
   "mimetype": "text/x-python",
   "name": "python",
   "nbconvert_exporter": "python",
   "pygments_lexer": "ipython3",
   "version": "3.13.6"
  }
 },
 "nbformat": 4,
 "nbformat_minor": 5
}
