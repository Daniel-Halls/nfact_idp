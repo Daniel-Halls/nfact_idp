{
 "cells": [
  {
   "cell_type": "markdown",
   "id": "f8b3e707",
   "metadata": {},
   "source": [
    "# Notebook to create a the component defintion dataframe\n",
    "\n",
    "Creates a Combined dataframe from multiple jsons into a single dataframe"
   ]
  },
  {
   "cell_type": "code",
   "execution_count": 14,
   "id": "8eb07236",
   "metadata": {},
   "outputs": [],
   "source": [
    "import pandas as pd\n",
    "from decouple import config\n",
    "from nfact_id.functions.component_def_functions import (\n",
    "    rename_dict, \n",
    "    get_max_value_from_dict, \n",
    "    clean_and_group, \n",
    "    most_frequent\n",
    "    )\n",
    "from conilab.data_functions.data import load_json\n",
    "import os\n",
    "import re"
   ]
  },
  {
   "cell_type": "markdown",
   "id": "d56c22bf",
   "metadata": {},
   "source": [
    "## Get file path"
   ]
  },
  {
   "cell_type": "code",
   "execution_count": 4,
   "id": "82d281b6",
   "metadata": {},
   "outputs": [],
   "source": [
    "component_df_dir = config(\"component_def\")"
   ]
  },
  {
   "cell_type": "markdown",
   "id": "641efed2",
   "metadata": {},
   "source": [
    "## Load JSONS"
   ]
  },
  {
   "cell_type": "code",
   "execution_count": 5,
   "id": "7d4cfcd8",
   "metadata": {},
   "outputs": [],
   "source": [
    "intra_hemi = load_json(os.path.join(component_df_dir, \"jsons_to_build_df\" , \"intra_hemi.json\"))\n",
    "yeo = load_json(os.path.join(component_df_dir, \"jsons_to_build_df\" , \"yeo_17_dice_scores.json\"))\n",
    "cole = load_json(os.path.join(component_df_dir, \"jsons_to_build_df\" , \"cole_dice_scores.json\"))\n",
    "gemini = load_json(os.path.join(component_df_dir, \"jsons_to_build_df\", \"gemini_defintion.json\"))"
   ]
  },
  {
   "cell_type": "markdown",
   "id": "0d867648",
   "metadata": {},
   "source": [
    "## Clean Jsons \n",
    "\n",
    "This involves \n",
    "1) making naming across atlases similar \n",
    "2) Getting the maximum dice score from jsons"
   ]
  },
  {
   "cell_type": "code",
   "execution_count": null,
   "id": "8c6debbb",
   "metadata": {},
   "outputs": [],
   "source": [
    "cole_cleaned = rename_dict({k: clean_and_group(v) for k, v in cole.items()}, {'Cingulo-Opercular': 'Salience'})\n",
    "yeo_cleaned = rename_dict({k: clean_and_group(v) for k, v in yeo.items()}, {'Control': 'Frontoparietal'})\n",
    "cole_def = get_max_value_from_dict(cole_cleaned)\n",
    "yeo_def = get_max_value_from_dict(yeo_cleaned)\n"
   ]
  },
  {
   "cell_type": "markdown",
   "id": "091212e4",
   "metadata": {},
   "source": [
    "## Process Gemini dictionary\n",
    "\n",
    "THis involes only keeping the network in the json"
   ]
  },
  {
   "cell_type": "code",
   "execution_count": 10,
   "id": "4a157581",
   "metadata": {},
   "outputs": [],
   "source": [
    "gemini_def = {key: value['network']  for key, value in gemini.items()}"
   ]
  },
  {
   "cell_type": "markdown",
   "id": "adda63ce",
   "metadata": {},
   "source": [
    "## Combine into one dataframe"
   ]
  },
  {
   "cell_type": "code",
   "execution_count": 11,
   "id": "bedabfbc",
   "metadata": {},
   "outputs": [],
   "source": [
    "comp_df = pd.DataFrame(\n",
    "    data={\n",
    "        \"Components\": cole_def.keys(),\n",
    "        \"Cole\": cole_def.values(),\n",
    "        \"Yeo17\": yeo_def.values(),\n",
    "        \"Gemini\": gemini_def.values(),\n",
    "\n",
    "    }\n",
    ")"
   ]
  },
  {
   "cell_type": "code",
   "execution_count": 13,
   "id": "cf34d847",
   "metadata": {},
   "outputs": [
    {
     "data": {
      "application/vnd.microsoft.datawrangler.viewer.v0+json": {
       "columns": [
        {
         "name": "index",
         "rawType": "int64",
         "type": "integer"
        },
        {
         "name": "Components",
         "rawType": "object",
         "type": "string"
        },
        {
         "name": "Cole",
         "rawType": "object",
         "type": "string"
        },
        {
         "name": "Yeo17",
         "rawType": "object",
         "type": "string"
        },
        {
         "name": "Gemini",
         "rawType": "object",
         "type": "string"
        }
       ],
       "ref": "5b9fabb5-9ca4-47e9-a85f-0a6cff48411d",
       "rows": [
        [
         "0",
         "0",
         "Default",
         "Limbic",
         "Limbic"
        ],
        [
         "1",
         "1",
         "Auditory",
         "Frontoparietal",
         "Default"
        ],
        [
         "2",
         "2",
         "Somatomotor",
         "Somatomotor",
         "Somatomotor"
        ],
        [
         "3",
         "3",
         "Somatomotor",
         "Salience",
         "Somatomotor"
        ],
        [
         "4",
         "4",
         "Salience",
         "Salience",
         "Language"
        ],
        [
         "5",
         "5",
         "Default",
         "Default",
         "Default"
        ],
        [
         "6",
         "6",
         "Posterior Multimodal",
         "Dorsal Attention",
         "Default"
        ],
        [
         "7",
         "7",
         "Language",
         "Temporal Parietal",
         "Language"
        ],
        [
         "8",
         "8",
         "Visual",
         "Visual",
         "Visual"
        ],
        [
         "9",
         "9",
         "Default",
         "Frontoparietal",
         "Default"
        ],
        [
         "10",
         "10",
         "Language",
         "Temporal Parietal",
         "Language"
        ],
        [
         "11",
         "11",
         "Default",
         "Default",
         "Default"
        ],
        [
         "12",
         "12",
         "Frontoparietal",
         "Salience",
         "Language"
        ],
        [
         "13",
         "13",
         "Ventral Multimodal",
         "Default",
         "Limbic"
        ],
        [
         "14",
         "14",
         "Dorsal Attention",
         "Dorsal Attention",
         "Dorsal Attention"
        ],
        [
         "15",
         "15",
         "Default",
         "Limbic",
         "Ventral Multimodal"
        ],
        [
         "16",
         "16",
         "Frontoparietal",
         "Dorsal Attention",
         "Dorsal Attention"
        ],
        [
         "17",
         "17",
         "Visual",
         "Visual",
         "Visual"
        ],
        [
         "18",
         "18",
         "Somatomotor",
         "Somatomotor",
         "Somatomotor"
        ],
        [
         "19",
         "19",
         "Somatomotor",
         "Somatomotor",
         "Somatomotor"
        ],
        [
         "20",
         "20",
         "Somatomotor",
         "Somatomotor",
         "Somatomotor"
        ],
        [
         "21",
         "21",
         "Ventral Multimodal",
         "Dorsal Attention",
         "Visual"
        ],
        [
         "22",
         "22",
         "Auditory",
         "Somatomotor",
         "Posterior Multimodal"
        ],
        [
         "23",
         "23",
         "Somatomotor",
         "Dorsal Attention",
         "Somatomotor"
        ],
        [
         "24",
         "24",
         "Frontoparietal",
         "Frontoparietal",
         "Language"
        ],
        [
         "25",
         "25",
         "Orbito-Affective",
         "Limbic",
         "Limbic"
        ],
        [
         "26",
         "26",
         "Orbito-Affective",
         "Salience",
         "Salience"
        ],
        [
         "27",
         "27",
         "Salience",
         "Salience",
         "Language"
        ],
        [
         "28",
         "28",
         "Default",
         "Limbic",
         "Default"
        ],
        [
         "29",
         "29",
         "Somatomotor",
         "Somatomotor",
         "Default"
        ],
        [
         "30",
         "30",
         "Salience",
         "Salience",
         "Salience"
        ],
        [
         "31",
         "31",
         "Posterior Multimodal",
         "Temporal Parietal",
         "Language"
        ],
        [
         "32",
         "32",
         "Language",
         "Frontoparietal",
         "Language"
        ],
        [
         "33",
         "33",
         "Salience",
         "Salience",
         "Default"
        ],
        [
         "34",
         "34",
         "Language",
         "Salience",
         "Frontoparietal"
        ],
        [
         "35",
         "35",
         "Auditory",
         "Somatomotor",
         "Auditory"
        ],
        [
         "36",
         "36",
         "Visual",
         "Dorsal Attention",
         "Dorsal Attention"
        ],
        [
         "37",
         "37",
         "Somatomotor",
         "Somatomotor",
         "Somatomotor"
        ],
        [
         "38",
         "38",
         "Posterior Multimodal",
         "Dorsal Attention",
         "Default"
        ],
        [
         "39",
         "39",
         "Dorsal Attention",
         "Dorsal Attention",
         "Dorsal Attention"
        ],
        [
         "40",
         "40",
         "Language",
         "Frontoparietal",
         "Somatomotor"
        ],
        [
         "41",
         "41",
         "Visual",
         "Dorsal Attention",
         "Dorsal Attention"
        ],
        [
         "42",
         "42",
         "Auditory",
         "Somatomotor",
         "Language"
        ],
        [
         "43",
         "43",
         "Auditory",
         "Somatomotor",
         "Auditory"
        ],
        [
         "44",
         "44",
         "Ventral Multimodal",
         "Default",
         "Default"
        ],
        [
         "45",
         "45",
         "Somatomotor",
         "Somatomotor",
         "Somatomotor"
        ],
        [
         "46",
         "46",
         "Auditory",
         "Somatomotor",
         "Somatomotor"
        ],
        [
         "47",
         "47",
         "Default",
         "Limbic",
         "Default"
        ],
        [
         "48",
         "48",
         "Somatomotor",
         "Somatomotor",
         "Somatomotor"
        ],
        [
         "49",
         "49",
         "Salience",
         "Salience",
         "Salience"
        ]
       ],
       "shape": {
        "columns": 4,
        "rows": 100
       }
      },
      "text/html": [
       "<div>\n",
       "<style scoped>\n",
       "    .dataframe tbody tr th:only-of-type {\n",
       "        vertical-align: middle;\n",
       "    }\n",
       "\n",
       "    .dataframe tbody tr th {\n",
       "        vertical-align: top;\n",
       "    }\n",
       "\n",
       "    .dataframe thead th {\n",
       "        text-align: right;\n",
       "    }\n",
       "</style>\n",
       "<table border=\"1\" class=\"dataframe\">\n",
       "  <thead>\n",
       "    <tr style=\"text-align: right;\">\n",
       "      <th></th>\n",
       "      <th>Components</th>\n",
       "      <th>Cole</th>\n",
       "      <th>Yeo17</th>\n",
       "      <th>Gemini</th>\n",
       "    </tr>\n",
       "  </thead>\n",
       "  <tbody>\n",
       "    <tr>\n",
       "      <th>0</th>\n",
       "      <td>0</td>\n",
       "      <td>Default</td>\n",
       "      <td>Limbic</td>\n",
       "      <td>Limbic</td>\n",
       "    </tr>\n",
       "    <tr>\n",
       "      <th>1</th>\n",
       "      <td>1</td>\n",
       "      <td>Auditory</td>\n",
       "      <td>Frontoparietal</td>\n",
       "      <td>Default</td>\n",
       "    </tr>\n",
       "    <tr>\n",
       "      <th>2</th>\n",
       "      <td>2</td>\n",
       "      <td>Somatomotor</td>\n",
       "      <td>Somatomotor</td>\n",
       "      <td>Somatomotor</td>\n",
       "    </tr>\n",
       "    <tr>\n",
       "      <th>3</th>\n",
       "      <td>3</td>\n",
       "      <td>Somatomotor</td>\n",
       "      <td>Salience</td>\n",
       "      <td>Somatomotor</td>\n",
       "    </tr>\n",
       "    <tr>\n",
       "      <th>4</th>\n",
       "      <td>4</td>\n",
       "      <td>Salience</td>\n",
       "      <td>Salience</td>\n",
       "      <td>Language</td>\n",
       "    </tr>\n",
       "    <tr>\n",
       "      <th>...</th>\n",
       "      <td>...</td>\n",
       "      <td>...</td>\n",
       "      <td>...</td>\n",
       "      <td>...</td>\n",
       "    </tr>\n",
       "    <tr>\n",
       "      <th>95</th>\n",
       "      <td>95</td>\n",
       "      <td>Salience</td>\n",
       "      <td>Salience</td>\n",
       "      <td>Salience</td>\n",
       "    </tr>\n",
       "    <tr>\n",
       "      <th>96</th>\n",
       "      <td>96</td>\n",
       "      <td>Somatomotor</td>\n",
       "      <td>Dorsal Attention</td>\n",
       "      <td>Dorsal Attention</td>\n",
       "    </tr>\n",
       "    <tr>\n",
       "      <th>97</th>\n",
       "      <td>97</td>\n",
       "      <td>Ventral Multimodal</td>\n",
       "      <td>Dorsal Attention</td>\n",
       "      <td>Visual</td>\n",
       "    </tr>\n",
       "    <tr>\n",
       "      <th>98</th>\n",
       "      <td>98</td>\n",
       "      <td>Visual</td>\n",
       "      <td>Visual</td>\n",
       "      <td>Visual</td>\n",
       "    </tr>\n",
       "    <tr>\n",
       "      <th>99</th>\n",
       "      <td>99</td>\n",
       "      <td>Visual</td>\n",
       "      <td>Visual</td>\n",
       "      <td>Visual</td>\n",
       "    </tr>\n",
       "  </tbody>\n",
       "</table>\n",
       "<p>100 rows × 4 columns</p>\n",
       "</div>"
      ],
      "text/plain": [
       "   Components                Cole             Yeo17            Gemini\n",
       "0           0             Default            Limbic            Limbic\n",
       "1           1            Auditory    Frontoparietal           Default\n",
       "2           2         Somatomotor       Somatomotor       Somatomotor\n",
       "3           3         Somatomotor          Salience       Somatomotor\n",
       "4           4            Salience          Salience          Language\n",
       "..        ...                 ...               ...               ...\n",
       "95         95            Salience          Salience          Salience\n",
       "96         96         Somatomotor  Dorsal Attention  Dorsal Attention\n",
       "97         97  Ventral Multimodal  Dorsal Attention            Visual\n",
       "98         98              Visual            Visual            Visual\n",
       "99         99              Visual            Visual            Visual\n",
       "\n",
       "[100 rows x 4 columns]"
      ]
     },
     "execution_count": 13,
     "metadata": {},
     "output_type": "execute_result"
    }
   ],
   "source": [
    "comp_df"
   ]
  },
  {
   "cell_type": "markdown",
   "id": "28455e92",
   "metadata": {},
   "source": [
    "## Get an averaged definition "
   ]
  },
  {
   "cell_type": "code",
   "execution_count": 16,
   "id": "c59eb172",
   "metadata": {},
   "outputs": [],
   "source": [
    "comp_df['definition'] = comp_df[['Yeo17', \"Cole\", \"Gemini\"]].T.apply(lambda x: most_frequent(x))"
   ]
  },
  {
   "cell_type": "markdown",
   "id": "eccb3ee0",
   "metadata": {},
   "source": [
    "## Added in whether component is a Intra Hemispheric component"
   ]
  },
  {
   "cell_type": "code",
   "execution_count": 19,
   "id": "71e1e60a",
   "metadata": {},
   "outputs": [],
   "source": [
    "comp_df['IntraHemi'] = intra_hemi.values()"
   ]
  },
  {
   "cell_type": "markdown",
   "id": "db7f67dc",
   "metadata": {},
   "source": [
    "## Save CSV"
   ]
  },
  {
   "cell_type": "code",
   "execution_count": 22,
   "id": "826506ce",
   "metadata": {},
   "outputs": [],
   "source": [
    "comp_df.to_csv(os.path.join(component_df_dir, \"Component_defintions.csv\"), index=False)"
   ]
  }
 ],
 "metadata": {
  "kernelspec": {
   "display_name": "mh",
   "language": "python",
   "name": "python3"
  },
  "language_info": {
   "codemirror_mode": {
    "name": "ipython",
    "version": 3
   },
   "file_extension": ".py",
   "mimetype": "text/x-python",
   "name": "python",
   "nbconvert_exporter": "python",
   "pygments_lexer": "ipython3",
   "version": "3.13.6"
  }
 },
 "nbformat": 4,
 "nbformat_minor": 5
}
