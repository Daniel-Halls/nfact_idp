{
 "cells": [
  {
   "cell_type": "markdown",
   "id": "c6bf6cfe",
   "metadata": {},
   "source": [
    "# Notebook to get dice scores for components\n",
    "\n",
    "Uses the yeo atlas and the anti-cole atlas to calculate dice scores to get grey matter defintions"
   ]
  },
  {
   "cell_type": "code",
   "execution_count": null,
   "id": "aeae7e08",
   "metadata": {},
   "outputs": [],
   "source": [
    "import nibabel as nb\n",
    "import numpy as np\n",
    "from conilab.data_functions.image_handling import decompose_cifti, downsample\n",
    "from conilab.data_functions.data import save_json\n",
    "from nfact_id.functions.component_def_functions import define_components_by_dice\n",
    "import nilearn.image as nimg\n",
    "from decouple import config\n",
    "import pandas as pd\n",
    "import os"
   ]
  },
  {
   "cell_type": "code",
   "execution_count": 27,
   "id": "8e5cc82d",
   "metadata": {},
   "outputs": [],
   "source": [
    "base_dir = config(\"base_dir\")\n",
    "atlas_locations = os.path.join(base_dir, \"parcellations\")\n",
    "json_location = os.path.join(base_dir, \"component_defintion\", 'jsons_to_build_df')"
   ]
  },
  {
   "cell_type": "markdown",
   "id": "5905c1b1",
   "metadata": {},
   "source": [
    "## Get high and low res surfaces + low res subcortical volume to downsample atlases to"
   ]
  },
  {
   "cell_type": "code",
   "execution_count": 18,
   "id": "a1941a02",
   "metadata": {},
   "outputs": [],
   "source": [
    "l_high_res_surface = nb.load(os.path.join(atlas_locations, \"S1200.L.inflated_MSMAll.32k_fs_LR.surf.gii\")).darrays[0].data\n",
    "l_low_res_surface = nb.load(os.path.join(base_dir, \"viewing_surfaces\", \"L_inflated_10k.surf.gii\")).darrays[0].data\n",
    "r_high_res_surface = nb.load(os.path.join(atlas_locations, \"S1200.R.inflated_MSMAll.32k_fs_LR.surf.gii\")).darrays[0].data\n",
    "r_low_res_surface = nb.load(os.path.join(base_dir, \"viewing_surfaces\", \"R_inflated_10k.surf.gii\")).darrays[0].data\n",
    "subcortcal = nb.load(os.path.join(atlas_locations, \"combined_rois.nii.gz\"))"
   ]
  },
  {
   "cell_type": "markdown",
   "id": "65578f0f",
   "metadata": {},
   "source": [
    "## Load YEO and COLE atlas"
   ]
  },
  {
   "cell_type": "code",
   "execution_count": 19,
   "id": "afe06d7d",
   "metadata": {},
   "outputs": [],
   "source": [
    "cole_atlas = nb.load(os.path.join(atlas_locations, \"CortexSubcortex_ColeAnticevic_NetPartition_wSubcorGSR_netassignments_LR.dlabel.nii\"))\n",
    "yeo_atlas = nb.load(os.path.join(atlas_locations, \"yeo_17.32k_fs_LR.dlabel.nii\"))"
   ]
  },
  {
   "cell_type": "markdown",
   "id": "f7795824",
   "metadata": {},
   "source": [
    "## Load NFACT components"
   ]
  },
  {
   "cell_type": "code",
   "execution_count": 20,
   "id": "6230902b",
   "metadata": {},
   "outputs": [],
   "source": [
    "gmf = nb.load(os.path.join(base_dir, \"nfact_decomp_mh\", \"components\", \"NMF\", \"decomp\", \"G_NMF_dim100.dscalar.nii\" ))\n",
    "nmf_comp = decompose_cifti(gmf)"
   ]
  },
  {
   "cell_type": "markdown",
   "id": "9e00c14f",
   "metadata": {},
   "source": [
    "## Decompose and downsample ciftis"
   ]
  },
  {
   "cell_type": "markdown",
   "id": "6fca31ec",
   "metadata": {},
   "source": [
    "### Yeo atlas\n",
    "\n",
    "This is actually 3 atlases together and has been turned from a cifit 1 to cifit 2 in workbench. \n",
    "So we need the 1st part of the array which the 17"
   ]
  },
  {
   "cell_type": "code",
   "execution_count": 21,
   "id": "330fc4d0",
   "metadata": {},
   "outputs": [],
   "source": [
    "yeo = decompose_cifti(yeo_atlas)\n",
    "yeo_left_atlas = downsample(yeo['L_surf'], l_low_res_surface, l_high_res_surface)\n",
    "yeo_right_atlas = downsample(yeo['R_surf'], r_low_res_surface, r_high_res_surface)\n",
    "yeo_atlas = np.concat([yeo_left_atlas.squeeze(), yeo_right_atlas.squeeze()])[:, 1]"
   ]
  },
  {
   "cell_type": "code",
   "execution_count": 22,
   "id": "8fd69614",
   "metadata": {},
   "outputs": [],
   "source": [
    "yeo_label_df = pd.read_csv(os.path.join(atlas_locations, \"RSN_17.csv\"))\n",
    "yeo_label_df['Network Name'] = yeo_label_df['Network Name'].apply(lambda x: x.lstrip())"
   ]
  },
  {
   "cell_type": "markdown",
   "id": "a175fa0f",
   "metadata": {},
   "source": [
    "### Cole atlas\n",
    "\n",
    "This atlas has a subcortical element so this also needs downsampling"
   ]
  },
  {
   "cell_type": "code",
   "execution_count": 23,
   "id": "679fbd77",
   "metadata": {},
   "outputs": [],
   "source": [
    "cole = decompose_cifti(cole_atlas)\n",
    "l_surf_cole = downsample(cole['L_surf'], l_low_res_surface, l_high_res_surface) \n",
    "r_surf_cole = downsample(cole['R_surf'], r_low_res_surface, r_high_res_surface) \n",
    "data = cole['vol'].get_fdata()\n",
    "cole_subcortical = nb.Nifti1Image(data[:,:,:,0], affine=cole['vol'].affine, header=cole['vol'].header)\n",
    "subcortical_cole = nimg.resample_to_img(cole_subcortical, subcortcal, copy_header=True, force_resample=True, interpolation=\"nearest\")\n",
    "cole_atlas_data = np.concat([l_surf_cole.squeeze(), r_surf_cole.squeeze(), subcortical_cole.get_fdata().flatten()])"
   ]
  },
  {
   "cell_type": "code",
   "execution_count": 24,
   "id": "7656b7db",
   "metadata": {},
   "outputs": [],
   "source": [
    "cole_label_df = pd.read_csv(os.path.join(atlas_locations, \"ColeAnticevic_names.csv\"))"
   ]
  },
  {
   "cell_type": "markdown",
   "id": "0a92336d",
   "metadata": {},
   "source": [
    "## Get DICE scores from atlas"
   ]
  },
  {
   "cell_type": "code",
   "execution_count": null,
   "id": "395e1455",
   "metadata": {},
   "outputs": [],
   "source": [
    "cole_dice = define_components_by_dice(cole_label_df['Network Name'].to_list()[1:], nmf_comp, nmf_comp['L_surf'].shape[1], cole_label_df, cole_atlas_data)\n",
    "yeo_dice = define_components_by_dice(yeo_label_df['Network Name'].to_list()[1:], nmf_comp, nmf_comp['L_surf'].shape[1], yeo_label_df, yeo_atlas, subcortical=False)"
   ]
  },
  {
   "cell_type": "markdown",
   "id": "e3dc9d01",
   "metadata": {},
   "source": [
    "## Save jsons"
   ]
  },
  {
   "cell_type": "code",
   "execution_count": null,
   "id": "4e2c4940",
   "metadata": {},
   "outputs": [],
   "source": [
    "save_json(os.pth.join(json_location, \"cole_dice_scores.json\"), cole_dice)\n",
    "save_json(os.pth.join(json_location, \"yeo_17_dice_scores.json\"), yeo_dice)"
   ]
  }
 ],
 "metadata": {
  "kernelspec": {
   "display_name": "mh",
   "language": "python",
   "name": "python3"
  },
  "language_info": {
   "codemirror_mode": {
    "name": "ipython",
    "version": 3
   },
   "file_extension": ".py",
   "mimetype": "text/x-python",
   "name": "python",
   "nbconvert_exporter": "python",
   "pygments_lexer": "ipython3",
   "version": "3.13.6"
  }
 },
 "nbformat": 4,
 "nbformat_minor": 5
}
