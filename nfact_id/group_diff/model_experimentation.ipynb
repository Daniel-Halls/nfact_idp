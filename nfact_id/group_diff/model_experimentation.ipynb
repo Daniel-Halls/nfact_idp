{
 "cells": [
  {
   "cell_type": "markdown",
   "id": "1cea0af6",
   "metadata": {},
   "source": [
    "# Notebook to check which type of model is the most informative\n",
    "\n",
    "Based on the data a beta family and a normative distrubtion will be selected.\n",
    "\n",
    "Three types of models will be selected. \n",
    "1) Gaussian (pre ran)\n",
    "2) Beta logit with weakly informative priors\n",
    "3) Beta logit with more informative priors"
   ]
  },
  {
   "cell_type": "code",
   "execution_count": 213,
   "id": "e139a1e1",
   "metadata": {},
   "outputs": [],
   "source": [
    "from nfact_id.functions.idp_functions import create_wide_df\n",
    "import numpy as np\n",
    "import bambi as bmb\n",
    "import arviz as az\n",
    "from decouple import config\n",
    "import matplotlib.pyplot as plt\n",
    "plt.style.use('ggplot')\n",
    "import pandas as pd\n",
    "import os\n",
    "os.environ[\"CPATH\"] = \"/Library/Developer/CommandLineTools/SDKs/MacOSX.sdk/usr/include/c++/v1\""
   ]
  },
  {
   "cell_type": "markdown",
   "id": "9ffef48a",
   "metadata": {},
   "source": [
    "## Get file paths"
   ]
  },
  {
   "cell_type": "code",
   "execution_count": 191,
   "id": "62779c1e",
   "metadata": {},
   "outputs": [],
   "source": [
    "component_dir = os.path.join(config(\"base_dir\"), \"component_loadings\", \"hcp\")\n",
    "storage_dir = os.path.join(config(\"base_dir\"), \"group_tests\")"
   ]
  },
  {
   "cell_type": "markdown",
   "id": "bfd6cb44",
   "metadata": {},
   "source": [
    "## Pre-process data"
   ]
  },
  {
   "cell_type": "code",
   "execution_count": 192,
   "id": "dfc0e63c",
   "metadata": {},
   "outputs": [],
   "source": [
    "df_wide = create_wide_df(os.path.join(component_dir, \"G_component_loadings.csv\"), os.path.join(component_dir, \"W_component_loadings.csv\"))\n",
    "participant_info = pd.read_csv(os.path.join(component_dir, \"participants_dr.csv\"))\n",
    "df_wide['group'] = participant_info['phenotype']"
   ]
  },
  {
   "cell_type": "code",
   "execution_count": 193,
   "id": "9cc04e6e",
   "metadata": {},
   "outputs": [],
   "source": [
    "long_df = pd.melt(df_wide, id_vars=['subject', 'group'], var_name='component', value_name='value')\n",
    "long_df['component_num'] = long_df['component'].str.extract(r'(\\d+)').astype(int)\n",
    "long_df = long_df.sort_values(by=['subject', 'component_num'])\n",
    "long_df['comp_type'] = long_df['component'].apply(lambda x: 'Grey' if 'G_' in x else 'White')\n",
    "long_df = long_df.drop(columns='component').reset_index(drop=True)"
   ]
  },
  {
   "cell_type": "markdown",
   "id": "67d06dbb",
   "metadata": {},
   "source": [
    "### Get Controls only"
   ]
  },
  {
   "cell_type": "code",
   "execution_count": 194,
   "id": "e4e8cd7e",
   "metadata": {},
   "outputs": [],
   "source": [
    "controls = long_df[long_df['group'].str.contains(\"Control\")].reset_index(drop=True)\n",
    "controls_grey = controls[controls['comp_type'].str.contains(\"Grey\")]\n",
    "controls_white = controls[controls['comp_type'].str.contains(\"White\")]"
   ]
  },
  {
   "cell_type": "markdown",
   "id": "205e6911",
   "metadata": {},
   "source": [
    "## The Models"
   ]
  },
  {
   "cell_type": "markdown",
   "id": "df07ecb3",
   "metadata": {},
   "source": [
    "## The two beta models"
   ]
  },
  {
   "cell_type": "code",
   "execution_count": 195,
   "id": "5ffa9356",
   "metadata": {},
   "outputs": [],
   "source": [
    "model_ctrl_white_weak_priors_beta = bmb.Model(\n",
    "    \"value ~ 0 + component_num + (1 | subject)\",\n",
    "    data=controls_white,\n",
    "    family=\"beta\",\n",
    "    categorical=['subject', 'component_num'],\n",
    ")"
   ]
  },
  {
   "cell_type": "code",
   "execution_count": 196,
   "id": "25dbf833",
   "metadata": {},
   "outputs": [
    {
     "data": {
      "text/plain": [
       "       Formula: value ~ 0 + component_num + (1 | subject)\n",
       "        Family: beta\n",
       "          Link: mu = logit\n",
       "  Observations: 16200\n",
       "        Priors: \n",
       "    target = mu\n",
       "        Common-level effects\n",
       "            component_num ~ Normal(mu: [0. 0. 0. 0. 0. 0. 0. 0. 0. 0. 0. 0. 0. 0. 0. 0. 0. 0. 0. 0. 0. 0. 0.\n",
       "                0.\n",
       "             0. 0. 0. 0. 0. 0. 0. 0. 0. 0. 0. 0. 0. 0. 0. 0. 0. 0. 0. 0. 0. 0. 0. 0.\n",
       "             0. 0. 0. 0. 0. 0. 0. 0. 0. 0. 0. 0. 0. 0. 0. 0. 0. 0. 0. 0. 0. 0. 0. 0.\n",
       "             0. 0. 0. 0. 0. 0. 0. 0. 0. 0. 0. 0. 0. 0. 0. 0. 0. 0. 0. 0. 0. 0. 0. 0.\n",
       "             0. 0. 0. 0.], sigma: [25.12594538 25.12594538 25.12594538 25.12594538 25.12594538 25.12594538\n",
       "             25.12594538 25.12594538 25.12594538 25.12594538 25.12594538 25.12594538\n",
       "             25.12594538 25.12594538 25.12594538 25.12594538 25.12594538 25.12594538\n",
       "             25.12594538 25.12594538 25.12594538 25.12594538 25.12594538 25.12594538\n",
       "             25.12594538 25.12594538 25.12594538 25.12594538 25.12594538 25.12594538\n",
       "             25.12594538 25.12594538 25.12594538 25.12594538 25.12594538 25.12594538\n",
       "             25.12594538 25.12594538 25.12594538 25.12594538 25.12594538 25.12594538\n",
       "             25.12594538 25.12594538 25.12594538 25.12594538 25.12594538 25.12594538\n",
       "             25.12594538 25.12594538 25.12594538 25.12594538 25.12594538 25.12594538\n",
       "             25.12594538 25.12594538 25.12594538 25.12594538 25.12594538 25.12594538\n",
       "             25.12594538 25.12594538 25.12594538 25.12594538 25.12594538 25.12594538\n",
       "             25.12594538 25.12594538 25.12594538 25.12594538 25.12594538 25.12594538\n",
       "             25.12594538 25.12594538 25.12594538 25.12594538 25.12594538 25.12594538\n",
       "             25.12594538 25.12594538 25.12594538 25.12594538 25.12594538 25.12594538\n",
       "             25.12594538 25.12594538 25.12594538 25.12594538 25.12594538 25.12594538\n",
       "             25.12594538 25.12594538 25.12594538 25.12594538 25.12594538 25.12594538\n",
       "             25.12594538 25.12594538 25.12594538 25.12594538])\n",
       "        \n",
       "        Group-level effects\n",
       "            1|subject ~ Normal(mu: 0.0, sigma: HalfNormal(sigma: 3.5444507773604808))\n",
       "        \n",
       "        Auxiliary parameters\n",
       "            kappa ~ HalfCauchy(beta: 1.0)"
      ]
     },
     "execution_count": 196,
     "metadata": {},
     "output_type": "execute_result"
    }
   ],
   "source": [
    "model_ctrl_white_weak_priors_beta"
   ]
  },
  {
   "cell_type": "code",
   "execution_count": 197,
   "id": "80fbb884",
   "metadata": {},
   "outputs": [],
   "source": [
    "model_ctrl_white_informed_priors_beta = bmb.Model(\n",
    "    \"value ~ 0 + component_num + (1 | subject)\",\n",
    "    data=controls_white,\n",
    "    family=\"beta\",\n",
    "    categorical=['subject', 'component_num'],\n",
    "    priors={\n",
    "        \"component_num\": bmb.Prior(\"Normal\", mu=0, sigma=1), # More informative sigma\n",
    "        \"1|subject\": bmb.Prior(\"Normal\", mu=0.0, sigma=bmb.Prior(\"HalfNormal\", sigma=0.5)),\n",
    "    }\n",
    "\n",
    ")"
   ]
  },
  {
   "cell_type": "code",
   "execution_count": 198,
   "id": "10c62c1a",
   "metadata": {},
   "outputs": [
    {
     "data": {
      "text/plain": [
       "       Formula: value ~ 0 + component_num + (1 | subject)\n",
       "        Family: beta\n",
       "          Link: mu = logit\n",
       "  Observations: 16200\n",
       "        Priors: \n",
       "    target = mu\n",
       "        Common-level effects\n",
       "            component_num ~ Normal(mu: 0.0, sigma: 1.0)\n",
       "        \n",
       "        Group-level effects\n",
       "            1|subject ~ Normal(mu: 0.0, sigma: HalfNormal(sigma: 0.5))\n",
       "        \n",
       "        Auxiliary parameters\n",
       "            kappa ~ HalfCauchy(beta: 1.0)"
      ]
     },
     "execution_count": 198,
     "metadata": {},
     "output_type": "execute_result"
    }
   ],
   "source": [
    "model_ctrl_white_informed_priors_beta"
   ]
  },
  {
   "cell_type": "code",
   "execution_count": 199,
   "id": "fd3c6469",
   "metadata": {},
   "outputs": [
    {
     "name": "stderr",
     "output_type": "stream",
     "text": [
      "Initializing NUTS using jitter+adapt_diag...\n",
      "Multiprocess sampling (4 chains in 4 jobs)\n",
      "NUTS: [value_kappa, component_num, 1|subject_sigma, 1|subject_offset]\n"
     ]
    },
    {
     "data": {
      "application/vnd.jupyter.widget-view+json": {
       "model_id": "5dc248c062c74e45ad8ce22020bb3455",
       "version_major": 2,
       "version_minor": 0
      },
      "text/plain": [
       "Output()"
      ]
     },
     "metadata": {},
     "output_type": "display_data"
    },
    {
     "data": {
      "text/html": [
       "<pre style=\"white-space:pre;overflow-x:auto;line-height:normal;font-family:Menlo,'DejaVu Sans Mono',consolas,'Courier New',monospace\"></pre>\n"
      ],
      "text/plain": []
     },
     "metadata": {},
     "output_type": "display_data"
    },
    {
     "name": "stderr",
     "output_type": "stream",
     "text": [
      "Sampling 4 chains for 4_000 tune and 1_000 draw iterations (16_000 + 4_000 draws total) took 858 seconds.\n"
     ]
    }
   ],
   "source": [
    "idata_ctrl_weak_priors_beta = model_ctrl_white_weak_priors_beta.fit(tune=4000, draw=4000, cores=4, chains=4, mp_ctx=\"spawn\", random_seed=1234, target_accept=0.98, idata_kwargs={\"log_likelihood\": True})"
   ]
  },
  {
   "cell_type": "code",
   "execution_count": 200,
   "id": "04509f99",
   "metadata": {},
   "outputs": [
    {
     "name": "stderr",
     "output_type": "stream",
     "text": [
      "Initializing NUTS using jitter+adapt_diag...\n",
      "Multiprocess sampling (4 chains in 4 jobs)\n",
      "NUTS: [value_kappa, component_num, 1|subject_sigma, 1|subject_offset]\n"
     ]
    },
    {
     "data": {
      "application/vnd.jupyter.widget-view+json": {
       "model_id": "72d7356b33c44bfba54b086045d82909",
       "version_major": 2,
       "version_minor": 0
      },
      "text/plain": [
       "Output()"
      ]
     },
     "metadata": {},
     "output_type": "display_data"
    },
    {
     "data": {
      "text/html": [
       "<pre style=\"white-space:pre;overflow-x:auto;line-height:normal;font-family:Menlo,'DejaVu Sans Mono',consolas,'Courier New',monospace\"></pre>\n"
      ],
      "text/plain": []
     },
     "metadata": {},
     "output_type": "display_data"
    },
    {
     "name": "stderr",
     "output_type": "stream",
     "text": [
      "Sampling 4 chains for 4_000 tune and 1_000 draw iterations (16_000 + 4_000 draws total) took 862 seconds.\n"
     ]
    }
   ],
   "source": [
    "idata_ctrl_informed_priors_beta = model_ctrl_white_informed_priors_beta.fit(tune=4000, draw=4000, cores=4, chains=4, mp_ctx=\"spawn\", random_seed=1234, target_accept=0.98, idata_kwargs={\"log_likelihood\": True})"
   ]
  },
  {
   "cell_type": "code",
   "execution_count": 201,
   "id": "70ac86d8",
   "metadata": {},
   "outputs": [
    {
     "data": {
      "application/vnd.microsoft.datawrangler.viewer.v0+json": {
       "columns": [
        {
         "name": "index",
         "rawType": "object",
         "type": "string"
        },
        {
         "name": "mean",
         "rawType": "float64",
         "type": "float"
        },
        {
         "name": "sd",
         "rawType": "float64",
         "type": "float"
        },
        {
         "name": "hdi_3%",
         "rawType": "float64",
         "type": "float"
        },
        {
         "name": "hdi_97%",
         "rawType": "float64",
         "type": "float"
        },
        {
         "name": "mcse_mean",
         "rawType": "float64",
         "type": "float"
        },
        {
         "name": "mcse_sd",
         "rawType": "float64",
         "type": "float"
        },
        {
         "name": "ess_bulk",
         "rawType": "float64",
         "type": "float"
        },
        {
         "name": "ess_tail",
         "rawType": "float64",
         "type": "float"
        },
        {
         "name": "r_hat",
         "rawType": "float64",
         "type": "float"
        }
       ],
       "ref": "4d366615-c910-4a3c-912d-bc6b6f4220d9",
       "rows": [
        [
         "component_num[0]",
         "0.777",
         "0.027",
         "0.728",
         "0.829",
         "0.001",
         "0.0",
         "2279.0",
         "2447.0",
         "1.0"
        ],
        [
         "component_num[1]",
         "1.128",
         "0.029",
         "1.075",
         "1.183",
         "0.001",
         "0.0",
         "2673.0",
         "2764.0",
         "1.0"
        ],
        [
         "component_num[2]",
         "1.155",
         "0.029",
         "1.098",
         "1.209",
         "0.001",
         "0.001",
         "3195.0",
         "2733.0",
         "1.0"
        ],
        [
         "component_num[3]",
         "0.329",
         "0.025",
         "0.282",
         "0.377",
         "0.001",
         "0.0",
         "2064.0",
         "2291.0",
         "1.0"
        ],
        [
         "component_num[4]",
         "1.005",
         "0.027",
         "0.955",
         "1.057",
         "0.0",
         "0.0",
         "3422.0",
         "2643.0",
         "1.0"
        ],
        [
         "component_num[5]",
         "1.313",
         "0.029",
         "1.256",
         "1.366",
         "0.001",
         "0.001",
         "2904.0",
         "2571.0",
         "1.0"
        ],
        [
         "component_num[6]",
         "1.342",
         "0.029",
         "1.286",
         "1.395",
         "0.001",
         "0.001",
         "2416.0",
         "2477.0",
         "1.0"
        ],
        [
         "component_num[7]",
         "0.887",
         "0.027",
         "0.838",
         "0.939",
         "0.001",
         "0.0",
         "2521.0",
         "2664.0",
         "1.0"
        ],
        [
         "component_num[8]",
         "1.115",
         "0.028",
         "1.062",
         "1.17",
         "0.001",
         "0.0",
         "2363.0",
         "2660.0",
         "1.0"
        ],
        [
         "component_num[9]",
         "0.791",
         "0.026",
         "0.741",
         "0.838",
         "0.001",
         "0.0",
         "2689.0",
         "2036.0",
         "1.0"
        ],
        [
         "component_num[10]",
         "1.084",
         "0.028",
         "1.032",
         "1.136",
         "0.001",
         "0.0",
         "2790.0",
         "2271.0",
         "1.01"
        ],
        [
         "component_num[11]",
         "1.215",
         "0.028",
         "1.16",
         "1.265",
         "0.0",
         "0.001",
         "3236.0",
         "2689.0",
         "1.0"
        ],
        [
         "component_num[12]",
         "0.653",
         "0.026",
         "0.607",
         "0.706",
         "0.001",
         "0.0",
         "2343.0",
         "2772.0",
         "1.0"
        ],
        [
         "component_num[13]",
         "1.163",
         "0.029",
         "1.112",
         "1.218",
         "0.001",
         "0.0",
         "2672.0",
         "2589.0",
         "1.0"
        ],
        [
         "component_num[14]",
         "0.737",
         "0.026",
         "0.69",
         "0.787",
         "0.001",
         "0.0",
         "1858.0",
         "2240.0",
         "1.0"
        ],
        [
         "component_num[15]",
         "1.238",
         "0.028",
         "1.186",
         "1.291",
         "0.001",
         "0.0",
         "2374.0",
         "2533.0",
         "1.0"
        ],
        [
         "component_num[16]",
         "0.815",
         "0.027",
         "0.764",
         "0.865",
         "0.0",
         "0.0",
         "2984.0",
         "2743.0",
         "1.0"
        ],
        [
         "component_num[17]",
         "1.224",
         "0.029",
         "1.171",
         "1.277",
         "0.001",
         "0.001",
         "2844.0",
         "2584.0",
         "1.0"
        ],
        [
         "component_num[18]",
         "1.233",
         "0.03",
         "1.174",
         "1.285",
         "0.001",
         "0.001",
         "3080.0",
         "2827.0",
         "1.0"
        ],
        [
         "component_num[19]",
         "1.321",
         "0.029",
         "1.266",
         "1.373",
         "0.0",
         "0.0",
         "3407.0",
         "3088.0",
         "1.0"
        ],
        [
         "component_num[20]",
         "1.474",
         "0.031",
         "1.42",
         "1.535",
         "0.001",
         "0.001",
         "2857.0",
         "2548.0",
         "1.0"
        ],
        [
         "component_num[21]",
         "0.819",
         "0.027",
         "0.771",
         "0.872",
         "0.001",
         "0.0",
         "2887.0",
         "2965.0",
         "1.0"
        ],
        [
         "component_num[22]",
         "1.157",
         "0.029",
         "1.102",
         "1.21",
         "0.001",
         "0.001",
         "2720.0",
         "2219.0",
         "1.0"
        ],
        [
         "component_num[23]",
         "0.795",
         "0.027",
         "0.742",
         "0.845",
         "0.001",
         "0.0",
         "2303.0",
         "2541.0",
         "1.0"
        ],
        [
         "component_num[24]",
         "0.684",
         "0.027",
         "0.63",
         "0.731",
         "0.001",
         "0.001",
         "2233.0",
         "2436.0",
         "1.0"
        ],
        [
         "component_num[25]",
         "1.347",
         "0.03",
         "1.294",
         "1.408",
         "0.001",
         "0.001",
         "2768.0",
         "2479.0",
         "1.0"
        ],
        [
         "component_num[26]",
         "1.083",
         "0.029",
         "1.027",
         "1.135",
         "0.001",
         "0.001",
         "2699.0",
         "2842.0",
         "1.0"
        ],
        [
         "component_num[27]",
         "1.337",
         "0.031",
         "1.281",
         "1.395",
         "0.001",
         "0.001",
         "2743.0",
         "2472.0",
         "1.0"
        ],
        [
         "component_num[28]",
         "1.385",
         "0.031",
         "1.324",
         "1.44",
         "0.001",
         "0.001",
         "3592.0",
         "2681.0",
         "1.0"
        ],
        [
         "component_num[29]",
         "1.093",
         "0.029",
         "1.043",
         "1.15",
         "0.001",
         "0.001",
         "2696.0",
         "2377.0",
         "1.0"
        ],
        [
         "component_num[30]",
         "1.275",
         "0.029",
         "1.223",
         "1.331",
         "0.001",
         "0.001",
         "2292.0",
         "2340.0",
         "1.0"
        ],
        [
         "component_num[31]",
         "0.855",
         "0.027",
         "0.807",
         "0.91",
         "0.001",
         "0.0",
         "2663.0",
         "2179.0",
         "1.0"
        ],
        [
         "component_num[32]",
         "1.297",
         "0.03",
         "1.243",
         "1.353",
         "0.001",
         "0.001",
         "2415.0",
         "2415.0",
         "1.0"
        ],
        [
         "component_num[33]",
         "1.141",
         "0.027",
         "1.09",
         "1.191",
         "0.001",
         "0.0",
         "2928.0",
         "2840.0",
         "1.0"
        ],
        [
         "component_num[34]",
         "1.235",
         "0.029",
         "1.176",
         "1.287",
         "0.001",
         "0.0",
         "2882.0",
         "2849.0",
         "1.0"
        ],
        [
         "component_num[35]",
         "1.282",
         "0.029",
         "1.227",
         "1.334",
         "0.001",
         "0.0",
         "2691.0",
         "2291.0",
         "1.0"
        ],
        [
         "component_num[36]",
         "0.965",
         "0.027",
         "0.914",
         "1.015",
         "0.001",
         "0.0",
         "2548.0",
         "2678.0",
         "1.0"
        ],
        [
         "component_num[37]",
         "1.341",
         "0.03",
         "1.283",
         "1.397",
         "0.001",
         "0.001",
         "3057.0",
         "2674.0",
         "1.0"
        ],
        [
         "component_num[38]",
         "0.659",
         "0.027",
         "0.61",
         "0.71",
         "0.001",
         "0.0",
         "2368.0",
         "2537.0",
         "1.0"
        ],
        [
         "component_num[39]",
         "0.643",
         "0.027",
         "0.594",
         "0.695",
         "0.001",
         "0.0",
         "2301.0",
         "2130.0",
         "1.0"
        ],
        [
         "component_num[40]",
         "0.899",
         "0.027",
         "0.845",
         "0.949",
         "0.001",
         "0.0",
         "2021.0",
         "2325.0",
         "1.0"
        ],
        [
         "component_num[41]",
         "0.863",
         "0.028",
         "0.812",
         "0.917",
         "0.001",
         "0.001",
         "2263.0",
         "2163.0",
         "1.0"
        ],
        [
         "component_num[42]",
         "1.006",
         "0.028",
         "0.953",
         "1.058",
         "0.001",
         "0.0",
         "2782.0",
         "2255.0",
         "1.0"
        ],
        [
         "component_num[43]",
         "0.972",
         "0.028",
         "0.918",
         "1.021",
         "0.001",
         "0.0",
         "1779.0",
         "2661.0",
         "1.0"
        ],
        [
         "component_num[44]",
         "0.948",
         "0.028",
         "0.896",
         "1.001",
         "0.001",
         "0.0",
         "2208.0",
         "2826.0",
         "1.0"
        ],
        [
         "component_num[45]",
         "0.698",
         "0.027",
         "0.647",
         "0.748",
         "0.001",
         "0.0",
         "2055.0",
         "2401.0",
         "1.0"
        ],
        [
         "component_num[46]",
         "1.214",
         "0.029",
         "1.161",
         "1.271",
         "0.001",
         "0.001",
         "2937.0",
         "2616.0",
         "1.0"
        ],
        [
         "component_num[47]",
         "1.541",
         "0.032",
         "1.481",
         "1.599",
         "0.001",
         "0.001",
         "3634.0",
         "2713.0",
         "1.0"
        ],
        [
         "component_num[48]",
         "0.889",
         "0.027",
         "0.837",
         "0.938",
         "0.0",
         "0.0",
         "3001.0",
         "2338.0",
         "1.0"
        ],
        [
         "component_num[49]",
         "1.388",
         "0.03",
         "1.33",
         "1.441",
         "0.001",
         "0.001",
         "3138.0",
         "2740.0",
         "1.0"
        ]
       ],
       "shape": {
        "columns": 9,
        "rows": 264
       }
      },
      "text/html": [
       "<div>\n",
       "<style scoped>\n",
       "    .dataframe tbody tr th:only-of-type {\n",
       "        vertical-align: middle;\n",
       "    }\n",
       "\n",
       "    .dataframe tbody tr th {\n",
       "        vertical-align: top;\n",
       "    }\n",
       "\n",
       "    .dataframe thead th {\n",
       "        text-align: right;\n",
       "    }\n",
       "</style>\n",
       "<table border=\"1\" class=\"dataframe\">\n",
       "  <thead>\n",
       "    <tr style=\"text-align: right;\">\n",
       "      <th></th>\n",
       "      <th>mean</th>\n",
       "      <th>sd</th>\n",
       "      <th>hdi_3%</th>\n",
       "      <th>hdi_97%</th>\n",
       "      <th>mcse_mean</th>\n",
       "      <th>mcse_sd</th>\n",
       "      <th>ess_bulk</th>\n",
       "      <th>ess_tail</th>\n",
       "      <th>r_hat</th>\n",
       "    </tr>\n",
       "  </thead>\n",
       "  <tbody>\n",
       "    <tr>\n",
       "      <th>component_num[0]</th>\n",
       "      <td>0.777</td>\n",
       "      <td>0.027</td>\n",
       "      <td>0.728</td>\n",
       "      <td>0.829</td>\n",
       "      <td>0.001</td>\n",
       "      <td>0.000</td>\n",
       "      <td>2279.0</td>\n",
       "      <td>2447.0</td>\n",
       "      <td>1.0</td>\n",
       "    </tr>\n",
       "    <tr>\n",
       "      <th>component_num[1]</th>\n",
       "      <td>1.128</td>\n",
       "      <td>0.029</td>\n",
       "      <td>1.075</td>\n",
       "      <td>1.183</td>\n",
       "      <td>0.001</td>\n",
       "      <td>0.000</td>\n",
       "      <td>2673.0</td>\n",
       "      <td>2764.0</td>\n",
       "      <td>1.0</td>\n",
       "    </tr>\n",
       "    <tr>\n",
       "      <th>component_num[2]</th>\n",
       "      <td>1.155</td>\n",
       "      <td>0.029</td>\n",
       "      <td>1.098</td>\n",
       "      <td>1.209</td>\n",
       "      <td>0.001</td>\n",
       "      <td>0.001</td>\n",
       "      <td>3195.0</td>\n",
       "      <td>2733.0</td>\n",
       "      <td>1.0</td>\n",
       "    </tr>\n",
       "    <tr>\n",
       "      <th>component_num[3]</th>\n",
       "      <td>0.329</td>\n",
       "      <td>0.025</td>\n",
       "      <td>0.282</td>\n",
       "      <td>0.377</td>\n",
       "      <td>0.001</td>\n",
       "      <td>0.000</td>\n",
       "      <td>2064.0</td>\n",
       "      <td>2291.0</td>\n",
       "      <td>1.0</td>\n",
       "    </tr>\n",
       "    <tr>\n",
       "      <th>component_num[4]</th>\n",
       "      <td>1.005</td>\n",
       "      <td>0.027</td>\n",
       "      <td>0.955</td>\n",
       "      <td>1.057</td>\n",
       "      <td>0.000</td>\n",
       "      <td>0.000</td>\n",
       "      <td>3422.0</td>\n",
       "      <td>2643.0</td>\n",
       "      <td>1.0</td>\n",
       "    </tr>\n",
       "    <tr>\n",
       "      <th>...</th>\n",
       "      <td>...</td>\n",
       "      <td>...</td>\n",
       "      <td>...</td>\n",
       "      <td>...</td>\n",
       "      <td>...</td>\n",
       "      <td>...</td>\n",
       "      <td>...</td>\n",
       "      <td>...</td>\n",
       "      <td>...</td>\n",
       "    </tr>\n",
       "    <tr>\n",
       "      <th>1|subject[s0021]</th>\n",
       "      <td>0.030</td>\n",
       "      <td>0.033</td>\n",
       "      <td>-0.034</td>\n",
       "      <td>0.091</td>\n",
       "      <td>0.001</td>\n",
       "      <td>0.001</td>\n",
       "      <td>3884.0</td>\n",
       "      <td>2730.0</td>\n",
       "      <td>1.0</td>\n",
       "    </tr>\n",
       "    <tr>\n",
       "      <th>1|subject[s0023]</th>\n",
       "      <td>0.055</td>\n",
       "      <td>0.034</td>\n",
       "      <td>-0.015</td>\n",
       "      <td>0.115</td>\n",
       "      <td>0.001</td>\n",
       "      <td>0.001</td>\n",
       "      <td>3475.0</td>\n",
       "      <td>1801.0</td>\n",
       "      <td>1.0</td>\n",
       "    </tr>\n",
       "    <tr>\n",
       "      <th>1|subject[s0024]</th>\n",
       "      <td>0.005</td>\n",
       "      <td>0.034</td>\n",
       "      <td>-0.057</td>\n",
       "      <td>0.070</td>\n",
       "      <td>0.001</td>\n",
       "      <td>0.001</td>\n",
       "      <td>3619.0</td>\n",
       "      <td>2616.0</td>\n",
       "      <td>1.0</td>\n",
       "    </tr>\n",
       "    <tr>\n",
       "      <th>1|subject[s0027]</th>\n",
       "      <td>-0.006</td>\n",
       "      <td>0.033</td>\n",
       "      <td>-0.069</td>\n",
       "      <td>0.056</td>\n",
       "      <td>0.001</td>\n",
       "      <td>0.001</td>\n",
       "      <td>3320.0</td>\n",
       "      <td>2940.0</td>\n",
       "      <td>1.0</td>\n",
       "    </tr>\n",
       "    <tr>\n",
       "      <th>1|subject[s0028]</th>\n",
       "      <td>0.126</td>\n",
       "      <td>0.033</td>\n",
       "      <td>0.060</td>\n",
       "      <td>0.185</td>\n",
       "      <td>0.001</td>\n",
       "      <td>0.001</td>\n",
       "      <td>3199.0</td>\n",
       "      <td>2943.0</td>\n",
       "      <td>1.0</td>\n",
       "    </tr>\n",
       "  </tbody>\n",
       "</table>\n",
       "<p>264 rows × 9 columns</p>\n",
       "</div>"
      ],
      "text/plain": [
       "                   mean     sd  hdi_3%  hdi_97%  mcse_mean  mcse_sd  ess_bulk  \\\n",
       "component_num[0]  0.777  0.027   0.728    0.829      0.001    0.000    2279.0   \n",
       "component_num[1]  1.128  0.029   1.075    1.183      0.001    0.000    2673.0   \n",
       "component_num[2]  1.155  0.029   1.098    1.209      0.001    0.001    3195.0   \n",
       "component_num[3]  0.329  0.025   0.282    0.377      0.001    0.000    2064.0   \n",
       "component_num[4]  1.005  0.027   0.955    1.057      0.000    0.000    3422.0   \n",
       "...                 ...    ...     ...      ...        ...      ...       ...   \n",
       "1|subject[s0021]  0.030  0.033  -0.034    0.091      0.001    0.001    3884.0   \n",
       "1|subject[s0023]  0.055  0.034  -0.015    0.115      0.001    0.001    3475.0   \n",
       "1|subject[s0024]  0.005  0.034  -0.057    0.070      0.001    0.001    3619.0   \n",
       "1|subject[s0027] -0.006  0.033  -0.069    0.056      0.001    0.001    3320.0   \n",
       "1|subject[s0028]  0.126  0.033   0.060    0.185      0.001    0.001    3199.0   \n",
       "\n",
       "                  ess_tail  r_hat  \n",
       "component_num[0]    2447.0    1.0  \n",
       "component_num[1]    2764.0    1.0  \n",
       "component_num[2]    2733.0    1.0  \n",
       "component_num[3]    2291.0    1.0  \n",
       "component_num[4]    2643.0    1.0  \n",
       "...                    ...    ...  \n",
       "1|subject[s0021]    2730.0    1.0  \n",
       "1|subject[s0023]    1801.0    1.0  \n",
       "1|subject[s0024]    2616.0    1.0  \n",
       "1|subject[s0027]    2940.0    1.0  \n",
       "1|subject[s0028]    2943.0    1.0  \n",
       "\n",
       "[264 rows x 9 columns]"
      ]
     },
     "execution_count": 201,
     "metadata": {},
     "output_type": "execute_result"
    }
   ],
   "source": [
    "az.summary(idata_ctrl_weak_priors_beta)"
   ]
  },
  {
   "cell_type": "code",
   "execution_count": 202,
   "id": "81943c5d",
   "metadata": {},
   "outputs": [
    {
     "data": {
      "application/vnd.microsoft.datawrangler.viewer.v0+json": {
       "columns": [
        {
         "name": "index",
         "rawType": "object",
         "type": "string"
        },
        {
         "name": "mean",
         "rawType": "float64",
         "type": "float"
        },
        {
         "name": "sd",
         "rawType": "float64",
         "type": "float"
        },
        {
         "name": "hdi_3%",
         "rawType": "float64",
         "type": "float"
        },
        {
         "name": "hdi_97%",
         "rawType": "float64",
         "type": "float"
        },
        {
         "name": "mcse_mean",
         "rawType": "float64",
         "type": "float"
        },
        {
         "name": "mcse_sd",
         "rawType": "float64",
         "type": "float"
        },
        {
         "name": "ess_bulk",
         "rawType": "float64",
         "type": "float"
        },
        {
         "name": "ess_tail",
         "rawType": "float64",
         "type": "float"
        },
        {
         "name": "r_hat",
         "rawType": "float64",
         "type": "float"
        }
       ],
       "ref": "082302af-fee0-4411-a70a-2617bd8589f6",
       "rows": [
        [
         "component_num[0]",
         "0.769",
         "0.027",
         "0.717",
         "0.817",
         "0.001",
         "0.0",
         "1956.0",
         "2244.0",
         "1.0"
        ],
        [
         "component_num[1]",
         "1.121",
         "0.028",
         "1.068",
         "1.176",
         "0.001",
         "0.0",
         "2226.0",
         "2950.0",
         "1.0"
        ],
        [
         "component_num[2]",
         "1.148",
         "0.029",
         "1.093",
         "1.201",
         "0.001",
         "0.001",
         "2546.0",
         "2208.0",
         "1.0"
        ],
        [
         "component_num[3]",
         "0.322",
         "0.026",
         "0.272",
         "0.368",
         "0.001",
         "0.0",
         "1691.0",
         "2282.0",
         "1.0"
        ],
        [
         "component_num[4]",
         "0.997",
         "0.028",
         "0.946",
         "1.05",
         "0.001",
         "0.0",
         "2581.0",
         "2289.0",
         "1.0"
        ],
        [
         "component_num[5]",
         "1.306",
         "0.029",
         "1.251",
         "1.361",
         "0.001",
         "0.001",
         "2863.0",
         "2044.0",
         "1.0"
        ],
        [
         "component_num[6]",
         "1.334",
         "0.03",
         "1.28",
         "1.39",
         "0.001",
         "0.0",
         "2327.0",
         "2481.0",
         "1.0"
        ],
        [
         "component_num[7]",
         "0.88",
         "0.027",
         "0.828",
         "0.931",
         "0.001",
         "0.0",
         "1954.0",
         "2058.0",
         "1.0"
        ],
        [
         "component_num[8]",
         "1.108",
         "0.027",
         "1.058",
         "1.161",
         "0.001",
         "0.0",
         "2270.0",
         "2232.0",
         "1.0"
        ],
        [
         "component_num[9]",
         "0.783",
         "0.027",
         "0.733",
         "0.834",
         "0.001",
         "0.0",
         "2118.0",
         "2624.0",
         "1.0"
        ],
        [
         "component_num[10]",
         "1.076",
         "0.028",
         "1.026",
         "1.132",
         "0.001",
         "0.0",
         "2442.0",
         "2389.0",
         "1.0"
        ],
        [
         "component_num[11]",
         "1.207",
         "0.029",
         "1.153",
         "1.265",
         "0.001",
         "0.001",
         "2304.0",
         "2588.0",
         "1.0"
        ],
        [
         "component_num[12]",
         "0.646",
         "0.028",
         "0.595",
         "0.699",
         "0.001",
         "0.001",
         "1990.0",
         "1899.0",
         "1.0"
        ],
        [
         "component_num[13]",
         "1.156",
         "0.029",
         "1.105",
         "1.214",
         "0.001",
         "0.001",
         "2536.0",
         "2332.0",
         "1.0"
        ],
        [
         "component_num[14]",
         "0.73",
         "0.026",
         "0.681",
         "0.779",
         "0.001",
         "0.0",
         "2056.0",
         "2103.0",
         "1.0"
        ],
        [
         "component_num[15]",
         "1.23",
         "0.029",
         "1.179",
         "1.286",
         "0.001",
         "0.0",
         "2633.0",
         "2551.0",
         "1.0"
        ],
        [
         "component_num[16]",
         "0.808",
         "0.027",
         "0.755",
         "0.856",
         "0.001",
         "0.0",
         "2244.0",
         "2690.0",
         "1.0"
        ],
        [
         "component_num[17]",
         "1.217",
         "0.029",
         "1.159",
         "1.267",
         "0.001",
         "0.0",
         "2943.0",
         "2807.0",
         "1.0"
        ],
        [
         "component_num[18]",
         "1.226",
         "0.029",
         "1.173",
         "1.281",
         "0.001",
         "0.001",
         "2693.0",
         "2644.0",
         "1.0"
        ],
        [
         "component_num[19]",
         "1.313",
         "0.03",
         "1.258",
         "1.368",
         "0.001",
         "0.001",
         "2742.0",
         "2269.0",
         "1.0"
        ],
        [
         "component_num[20]",
         "1.466",
         "0.031",
         "1.409",
         "1.523",
         "0.001",
         "0.001",
         "3247.0",
         "1880.0",
         "1.0"
        ],
        [
         "component_num[21]",
         "0.812",
         "0.026",
         "0.764",
         "0.861",
         "0.001",
         "0.0",
         "1920.0",
         "2574.0",
         "1.0"
        ],
        [
         "component_num[22]",
         "1.149",
         "0.029",
         "1.095",
         "1.204",
         "0.001",
         "0.001",
         "2352.0",
         "2368.0",
         "1.0"
        ],
        [
         "component_num[23]",
         "0.788",
         "0.027",
         "0.737",
         "0.839",
         "0.001",
         "0.0",
         "2551.0",
         "2454.0",
         "1.0"
        ],
        [
         "component_num[24]",
         "0.676",
         "0.026",
         "0.626",
         "0.725",
         "0.001",
         "0.0",
         "2349.0",
         "2591.0",
         "1.0"
        ],
        [
         "component_num[25]",
         "1.339",
         "0.03",
         "1.281",
         "1.396",
         "0.001",
         "0.001",
         "2132.0",
         "2005.0",
         "1.0"
        ],
        [
         "component_num[26]",
         "1.076",
         "0.028",
         "1.026",
         "1.13",
         "0.001",
         "0.0",
         "2348.0",
         "2555.0",
         "1.0"
        ],
        [
         "component_num[27]",
         "1.33",
         "0.03",
         "1.272",
         "1.387",
         "0.001",
         "0.001",
         "2966.0",
         "2583.0",
         "1.0"
        ],
        [
         "component_num[28]",
         "1.377",
         "0.03",
         "1.32",
         "1.431",
         "0.001",
         "0.001",
         "2355.0",
         "2276.0",
         "1.0"
        ],
        [
         "component_num[29]",
         "1.086",
         "0.028",
         "1.033",
         "1.14",
         "0.001",
         "0.001",
         "2156.0",
         "2648.0",
         "1.0"
        ],
        [
         "component_num[30]",
         "1.267",
         "0.029",
         "1.216",
         "1.324",
         "0.001",
         "0.0",
         "2381.0",
         "2463.0",
         "1.0"
        ],
        [
         "component_num[31]",
         "0.848",
         "0.027",
         "0.795",
         "0.895",
         "0.001",
         "0.0",
         "2286.0",
         "2300.0",
         "1.0"
        ],
        [
         "component_num[32]",
         "1.29",
         "0.03",
         "1.23",
         "1.345",
         "0.001",
         "0.001",
         "2700.0",
         "2292.0",
         "1.0"
        ],
        [
         "component_num[33]",
         "1.133",
         "0.029",
         "1.079",
         "1.186",
         "0.001",
         "0.001",
         "2502.0",
         "2054.0",
         "1.0"
        ],
        [
         "component_num[34]",
         "1.229",
         "0.03",
         "1.171",
         "1.284",
         "0.001",
         "0.001",
         "2270.0",
         "2373.0",
         "1.0"
        ],
        [
         "component_num[35]",
         "1.275",
         "0.029",
         "1.219",
         "1.328",
         "0.001",
         "0.001",
         "2317.0",
         "2309.0",
         "1.0"
        ],
        [
         "component_num[36]",
         "0.958",
         "0.027",
         "0.907",
         "1.008",
         "0.001",
         "0.0",
         "2279.0",
         "2482.0",
         "1.0"
        ],
        [
         "component_num[37]",
         "1.333",
         "0.031",
         "1.278",
         "1.392",
         "0.001",
         "0.001",
         "3147.0",
         "2783.0",
         "1.0"
        ],
        [
         "component_num[38]",
         "0.652",
         "0.026",
         "0.604",
         "0.7",
         "0.001",
         "0.0",
         "1625.0",
         "2595.0",
         "1.0"
        ],
        [
         "component_num[39]",
         "0.636",
         "0.027",
         "0.586",
         "0.685",
         "0.001",
         "0.0",
         "2611.0",
         "2764.0",
         "1.0"
        ],
        [
         "component_num[40]",
         "0.892",
         "0.028",
         "0.843",
         "0.949",
         "0.001",
         "0.001",
         "2435.0",
         "2029.0",
         "1.0"
        ],
        [
         "component_num[41]",
         "0.856",
         "0.027",
         "0.804",
         "0.906",
         "0.001",
         "0.0",
         "2024.0",
         "1974.0",
         "1.0"
        ],
        [
         "component_num[42]",
         "0.999",
         "0.027",
         "0.948",
         "1.052",
         "0.001",
         "0.0",
         "2369.0",
         "2397.0",
         "1.0"
        ],
        [
         "component_num[43]",
         "0.965",
         "0.028",
         "0.914",
         "1.016",
         "0.001",
         "0.0",
         "2001.0",
         "2802.0",
         "1.0"
        ],
        [
         "component_num[44]",
         "0.941",
         "0.028",
         "0.888",
         "0.993",
         "0.001",
         "0.001",
         "2364.0",
         "2510.0",
         "1.0"
        ],
        [
         "component_num[45]",
         "0.691",
         "0.026",
         "0.639",
         "0.738",
         "0.001",
         "0.0",
         "2329.0",
         "2306.0",
         "1.0"
        ],
        [
         "component_num[46]",
         "1.206",
         "0.029",
         "1.153",
         "1.263",
         "0.001",
         "0.0",
         "2492.0",
         "2459.0",
         "1.0"
        ],
        [
         "component_num[47]",
         "1.533",
         "0.032",
         "1.466",
         "1.588",
         "0.001",
         "0.001",
         "2812.0",
         "2848.0",
         "1.0"
        ],
        [
         "component_num[48]",
         "0.883",
         "0.027",
         "0.832",
         "0.933",
         "0.001",
         "0.0",
         "1992.0",
         "2274.0",
         "1.0"
        ],
        [
         "component_num[49]",
         "1.38",
         "0.03",
         "1.321",
         "1.435",
         "0.001",
         "0.001",
         "2396.0",
         "2118.0",
         "1.0"
        ]
       ],
       "shape": {
        "columns": 9,
        "rows": 264
       }
      },
      "text/html": [
       "<div>\n",
       "<style scoped>\n",
       "    .dataframe tbody tr th:only-of-type {\n",
       "        vertical-align: middle;\n",
       "    }\n",
       "\n",
       "    .dataframe tbody tr th {\n",
       "        vertical-align: top;\n",
       "    }\n",
       "\n",
       "    .dataframe thead th {\n",
       "        text-align: right;\n",
       "    }\n",
       "</style>\n",
       "<table border=\"1\" class=\"dataframe\">\n",
       "  <thead>\n",
       "    <tr style=\"text-align: right;\">\n",
       "      <th></th>\n",
       "      <th>mean</th>\n",
       "      <th>sd</th>\n",
       "      <th>hdi_3%</th>\n",
       "      <th>hdi_97%</th>\n",
       "      <th>mcse_mean</th>\n",
       "      <th>mcse_sd</th>\n",
       "      <th>ess_bulk</th>\n",
       "      <th>ess_tail</th>\n",
       "      <th>r_hat</th>\n",
       "    </tr>\n",
       "  </thead>\n",
       "  <tbody>\n",
       "    <tr>\n",
       "      <th>component_num[0]</th>\n",
       "      <td>0.769</td>\n",
       "      <td>0.027</td>\n",
       "      <td>0.717</td>\n",
       "      <td>0.817</td>\n",
       "      <td>0.001</td>\n",
       "      <td>0.000</td>\n",
       "      <td>1956.0</td>\n",
       "      <td>2244.0</td>\n",
       "      <td>1.0</td>\n",
       "    </tr>\n",
       "    <tr>\n",
       "      <th>component_num[1]</th>\n",
       "      <td>1.121</td>\n",
       "      <td>0.028</td>\n",
       "      <td>1.068</td>\n",
       "      <td>1.176</td>\n",
       "      <td>0.001</td>\n",
       "      <td>0.000</td>\n",
       "      <td>2226.0</td>\n",
       "      <td>2950.0</td>\n",
       "      <td>1.0</td>\n",
       "    </tr>\n",
       "    <tr>\n",
       "      <th>component_num[2]</th>\n",
       "      <td>1.148</td>\n",
       "      <td>0.029</td>\n",
       "      <td>1.093</td>\n",
       "      <td>1.201</td>\n",
       "      <td>0.001</td>\n",
       "      <td>0.001</td>\n",
       "      <td>2546.0</td>\n",
       "      <td>2208.0</td>\n",
       "      <td>1.0</td>\n",
       "    </tr>\n",
       "    <tr>\n",
       "      <th>component_num[3]</th>\n",
       "      <td>0.322</td>\n",
       "      <td>0.026</td>\n",
       "      <td>0.272</td>\n",
       "      <td>0.368</td>\n",
       "      <td>0.001</td>\n",
       "      <td>0.000</td>\n",
       "      <td>1691.0</td>\n",
       "      <td>2282.0</td>\n",
       "      <td>1.0</td>\n",
       "    </tr>\n",
       "    <tr>\n",
       "      <th>component_num[4]</th>\n",
       "      <td>0.997</td>\n",
       "      <td>0.028</td>\n",
       "      <td>0.946</td>\n",
       "      <td>1.050</td>\n",
       "      <td>0.001</td>\n",
       "      <td>0.000</td>\n",
       "      <td>2581.0</td>\n",
       "      <td>2289.0</td>\n",
       "      <td>1.0</td>\n",
       "    </tr>\n",
       "    <tr>\n",
       "      <th>...</th>\n",
       "      <td>...</td>\n",
       "      <td>...</td>\n",
       "      <td>...</td>\n",
       "      <td>...</td>\n",
       "      <td>...</td>\n",
       "      <td>...</td>\n",
       "      <td>...</td>\n",
       "      <td>...</td>\n",
       "      <td>...</td>\n",
       "    </tr>\n",
       "    <tr>\n",
       "      <th>1|subject[s0021]</th>\n",
       "      <td>0.035</td>\n",
       "      <td>0.033</td>\n",
       "      <td>-0.027</td>\n",
       "      <td>0.100</td>\n",
       "      <td>0.001</td>\n",
       "      <td>0.001</td>\n",
       "      <td>4010.0</td>\n",
       "      <td>2524.0</td>\n",
       "      <td>1.0</td>\n",
       "    </tr>\n",
       "    <tr>\n",
       "      <th>1|subject[s0023]</th>\n",
       "      <td>0.060</td>\n",
       "      <td>0.033</td>\n",
       "      <td>0.001</td>\n",
       "      <td>0.122</td>\n",
       "      <td>0.001</td>\n",
       "      <td>0.001</td>\n",
       "      <td>3132.0</td>\n",
       "      <td>3047.0</td>\n",
       "      <td>1.0</td>\n",
       "    </tr>\n",
       "    <tr>\n",
       "      <th>1|subject[s0024]</th>\n",
       "      <td>0.012</td>\n",
       "      <td>0.033</td>\n",
       "      <td>-0.054</td>\n",
       "      <td>0.070</td>\n",
       "      <td>0.001</td>\n",
       "      <td>0.001</td>\n",
       "      <td>3142.0</td>\n",
       "      <td>2666.0</td>\n",
       "      <td>1.0</td>\n",
       "    </tr>\n",
       "    <tr>\n",
       "      <th>1|subject[s0027]</th>\n",
       "      <td>0.001</td>\n",
       "      <td>0.033</td>\n",
       "      <td>-0.058</td>\n",
       "      <td>0.064</td>\n",
       "      <td>0.001</td>\n",
       "      <td>0.001</td>\n",
       "      <td>2910.0</td>\n",
       "      <td>2020.0</td>\n",
       "      <td>1.0</td>\n",
       "    </tr>\n",
       "    <tr>\n",
       "      <th>1|subject[s0028]</th>\n",
       "      <td>0.132</td>\n",
       "      <td>0.033</td>\n",
       "      <td>0.070</td>\n",
       "      <td>0.192</td>\n",
       "      <td>0.001</td>\n",
       "      <td>0.001</td>\n",
       "      <td>2782.0</td>\n",
       "      <td>2977.0</td>\n",
       "      <td>1.0</td>\n",
       "    </tr>\n",
       "  </tbody>\n",
       "</table>\n",
       "<p>264 rows × 9 columns</p>\n",
       "</div>"
      ],
      "text/plain": [
       "                   mean     sd  hdi_3%  hdi_97%  mcse_mean  mcse_sd  ess_bulk  \\\n",
       "component_num[0]  0.769  0.027   0.717    0.817      0.001    0.000    1956.0   \n",
       "component_num[1]  1.121  0.028   1.068    1.176      0.001    0.000    2226.0   \n",
       "component_num[2]  1.148  0.029   1.093    1.201      0.001    0.001    2546.0   \n",
       "component_num[3]  0.322  0.026   0.272    0.368      0.001    0.000    1691.0   \n",
       "component_num[4]  0.997  0.028   0.946    1.050      0.001    0.000    2581.0   \n",
       "...                 ...    ...     ...      ...        ...      ...       ...   \n",
       "1|subject[s0021]  0.035  0.033  -0.027    0.100      0.001    0.001    4010.0   \n",
       "1|subject[s0023]  0.060  0.033   0.001    0.122      0.001    0.001    3132.0   \n",
       "1|subject[s0024]  0.012  0.033  -0.054    0.070      0.001    0.001    3142.0   \n",
       "1|subject[s0027]  0.001  0.033  -0.058    0.064      0.001    0.001    2910.0   \n",
       "1|subject[s0028]  0.132  0.033   0.070    0.192      0.001    0.001    2782.0   \n",
       "\n",
       "                  ess_tail  r_hat  \n",
       "component_num[0]    2244.0    1.0  \n",
       "component_num[1]    2950.0    1.0  \n",
       "component_num[2]    2208.0    1.0  \n",
       "component_num[3]    2282.0    1.0  \n",
       "component_num[4]    2289.0    1.0  \n",
       "...                    ...    ...  \n",
       "1|subject[s0021]    2524.0    1.0  \n",
       "1|subject[s0023]    3047.0    1.0  \n",
       "1|subject[s0024]    2666.0    1.0  \n",
       "1|subject[s0027]    2020.0    1.0  \n",
       "1|subject[s0028]    2977.0    1.0  \n",
       "\n",
       "[264 rows x 9 columns]"
      ]
     },
     "execution_count": 202,
     "metadata": {},
     "output_type": "execute_result"
    }
   ],
   "source": [
    "az.summary(idata_ctrl_informed_priors_beta)"
   ]
  },
  {
   "cell_type": "markdown",
   "id": "266537f8",
   "metadata": {},
   "source": [
    "## Fit Posterior"
   ]
  },
  {
   "cell_type": "code",
   "execution_count": 203,
   "id": "af861d33",
   "metadata": {},
   "outputs": [],
   "source": [
    "patients = long_df[~long_df['group'].str.contains(\"Control\")]\n",
    "white_ppc_df = patients[patients['comp_type'].str.contains(\"White\")]"
   ]
  },
  {
   "cell_type": "code",
   "execution_count": 204,
   "id": "004ada11",
   "metadata": {},
   "outputs": [],
   "source": [
    "model_ctrl_white_weak_priors_beta.predict(idata=idata_ctrl_weak_priors_beta, data=white_ppc_df, kind=\"pps\", sample_new_groups=True)\n",
    "model_ctrl_white_informed_priors_beta.predict(idata=idata_ctrl_informed_priors_beta, data=white_ppc_df, kind=\"pps\", sample_new_groups=True)"
   ]
  },
  {
   "cell_type": "markdown",
   "id": "fe00f542",
   "metadata": {},
   "source": [
    "## Plot Energy"
   ]
  },
  {
   "cell_type": "code",
   "execution_count": 205,
   "id": "2d64295d",
   "metadata": {},
   "outputs": [
    {
     "data": {
      "text/plain": [
       "<Axes: xlabel='value'>"
      ]
     },
     "execution_count": 205,
     "metadata": {},
     "output_type": "execute_result"
    },
    {
     "data": {
      "image/png": "[encoded data removed]",
      "text/plain": [
       "<Figure size 640x480 with 1 Axes>"
      ]
     },
     "metadata": {},
     "output_type": "display_data"
    }
   ],
   "source": [
    "az.plot_ppc(idata_ctrl_weak_priors_beta)"
   ]
  },
  {
   "cell_type": "code",
   "execution_count": 207,
   "id": "89352dd7",
   "metadata": {},
   "outputs": [
    {
     "data": {
      "text/plain": [
       "<Axes: xlabel='value'>"
      ]
     },
     "execution_count": 207,
     "metadata": {},
     "output_type": "execute_result"
    },
    {
     "data": {
      "image/png": "[encoded data removed]",
      "text/plain": [
       "<Figure size 640x480 with 1 Axes>"
      ]
     },
     "metadata": {},
     "output_type": "display_data"
    }
   ],
   "source": [
    "az.plot_ppc(idata_ctrl_informed_priors_beta)"
   ]
  },
  {
   "cell_type": "markdown",
   "id": "c12de6ba",
   "metadata": {},
   "source": [
    "## Compare all three models"
   ]
  },
  {
   "cell_type": "code",
   "execution_count": 208,
   "id": "d6c6c2fc",
   "metadata": {},
   "outputs": [],
   "source": [
    "idata_ctrl_white_gauss = az.from_netcdf(os.path.join(storage_dir, \"normative_WM_fitted.nc\"))"
   ]
  },
  {
   "cell_type": "code",
   "execution_count": 209,
   "id": "d7268099",
   "metadata": {},
   "outputs": [
    {
     "data": {
      "text/plain": [
       "<Axes: title={'center': 'Model comparison\\nhigher is better'}, xlabel='elpd_loo (log)', ylabel='ranked models'>"
      ]
     },
     "execution_count": 209,
     "metadata": {},
     "output_type": "execute_result"
    },
    {
     "data": {
      "image/png": "[encoded data removed]",
      "text/plain": [
       "<Figure size 600x300 with 1 Axes>"
      ]
     },
     "metadata": {},
     "output_type": "display_data"
    }
   ],
   "source": [
    "df = az.compare({\"gaussian\": idata_ctrl_white_gauss, \"beta_weak_priors\":idata_ctrl_weak_priors_beta, 'beta_informed': idata_ctrl_informed_priors_beta })\n",
    "az.plot_compare(df)"
   ]
  },
  {
   "cell_type": "markdown",
   "id": "2b651b11",
   "metadata": {},
   "source": [
    "## Which model has the least uncertainity"
   ]
  },
  {
   "cell_type": "code",
   "execution_count": 228,
   "id": "fe8c3aa7",
   "metadata": {},
   "outputs": [],
   "source": [
    "def param_uncertainty(idata, var_names=None):\n",
    "    \"\"\"\n",
    "    Returns posterior SD and 95% HDI width for each parameter\n",
    "    \"\"\"\n",
    "    summary = az.summary(idata, var_names=var_names, hdi_prob=0.95, round_to=3)\n",
    "    summary['hdi_width'] = np.round(summary['hdi_97.5%'] - summary['hdi_2.5%'], 3)\n",
    "    return summary[['mean', 'sd', 'hdi_97.5%', 'hdi_2.5%', 'hdi_width']]"
   ]
  },
  {
   "cell_type": "code",
   "execution_count": 233,
   "id": "2068f938",
   "metadata": {},
   "outputs": [],
   "source": [
    "def posterior_predictive_uncertainty(idata, obs_name='value'):\n",
    "    \"\"\"\n",
    "    Returns mean predictive SD for each observation\n",
    "    \"\"\"\n",
    "    ppc = idata.posterior_predictive[obs_name].stack(samples=(\"chain\",\"draw\")).values  # shape (n_samples, n_obs)\n",
    "    obs_sd = np.std(ppc, axis=0)\n",
    "    return pd.Series(obs_sd, name='ppc_sd')"
   ]
  },
  {
   "cell_type": "code",
   "execution_count": 232,
   "id": "62cf6905",
   "metadata": {},
   "outputs": [],
   "source": [
    "gaussian_summary = param_uncertainty(idata_ctrl_white_gauss)"
   ]
  },
  {
   "cell_type": "code",
   "execution_count": 230,
   "id": "ca02f1f4",
   "metadata": {},
   "outputs": [],
   "source": [
    "beta_weak_summary = param_uncertainty(idata_ctrl_weak_priors_beta)"
   ]
  },
  {
   "cell_type": "code",
   "execution_count": 231,
   "id": "2e8e2b1a",
   "metadata": {},
   "outputs": [],
   "source": [
    "beta_inform_summary = param_uncertainty(idata_ctrl_informed_priors_beta)"
   ]
  },
  {
   "cell_type": "code",
   "execution_count": 234,
   "id": "7fa65fda",
   "metadata": {},
   "outputs": [
    {
     "name": "stdout",
     "output_type": "stream",
     "text": [
      "Gaussain hdi width:  0.0855917619907686\n",
      "beta weak hdi width: 0.0806864338751756\n",
      "beta informed hdi width: 0.07842251153923338\n"
     ]
    }
   ],
   "source": [
    "print(\"Gaussain hdi width: \", gaussian_summary['hdi_width'].mean())\n",
    "print(\"beta weak hdi width:\", beta_weak_summary['hdi_width'].mean())\n",
    "print(\"beta informed hdi width:\", beta_inform_summary['hdi_width'].mean())"
   ]
  },
  {
   "cell_type": "code",
   "execution_count": 239,
   "id": "f0188493",
   "metadata": {},
   "outputs": [],
   "source": [
    "gaussian_predictive = posterior_predictive_uncertainty(idata_ctrl_white_gauss)"
   ]
  },
  {
   "cell_type": "code",
   "execution_count": 236,
   "id": "30e9d2b1",
   "metadata": {},
   "outputs": [],
   "source": [
    "beta_weak_predictive = posterior_predictive_uncertainty(idata_ctrl_weak_priors_beta)"
   ]
  },
  {
   "cell_type": "code",
   "execution_count": 237,
   "id": "3abf62e1",
   "metadata": {},
   "outputs": [],
   "source": [
    "beta_inform_predictive = posterior_predictive_uncertainty(idata_ctrl_informed_priors_beta)"
   ]
  },
  {
   "cell_type": "code",
   "execution_count": 240,
   "id": "cec2618c",
   "metadata": {},
   "outputs": [
    {
     "name": "stdout",
     "output_type": "stream",
     "text": [
      "PPD STD Gaussian:  0.08282146765352848\n",
      "PPD STD beta weak: 0.08062912019496635\n",
      "PPD STD beta informed: 0.08071467161185805\n"
     ]
    }
   ],
   "source": [
    "print(\"PPD STD Gaussian: \", gaussian_predictive.mean())\n",
    "print(\"PPD STD beta weak:\", beta_weak_predictive.mean())\n",
    "print(\"PPD STD beta informed:\", beta_inform_predictive.mean())"
   ]
  },
  {
   "cell_type": "code",
   "execution_count": 241,
   "id": "135517b8",
   "metadata": {},
   "outputs": [
    {
     "data": {
      "image/png": "[encoded data removed]",
      "text/plain": [
       "<Figure size 640x480 with 1 Axes>"
      ]
     },
     "metadata": {},
     "output_type": "display_data"
    }
   ],
   "source": [
    "plt.hist(gaussian_predictive, bins=50, alpha=0.5, label='Gaussian')\n",
    "plt.hist(beta_weak_predictive, bins=50, alpha=0.5, label='beta weak')\n",
    "plt.hist(beta_inform_predictive, bins=50, alpha=0.5, label='beta inform')\n",
    "plt.xlabel('Posterior predictive SD per observation')\n",
    "plt.ylabel('Count')\n",
    "plt.legend()\n",
    "plt.show()"
   ]
  }
 ],
 "metadata": {
  "kernelspec": {
   "display_name": "mh",
   "language": "python",
   "name": "python3"
  },
  "language_info": {
   "codemirror_mode": {
    "name": "ipython",
    "version": 3
   },
   "file_extension": ".py",
   "mimetype": "text/x-python",
   "name": "python",
   "nbconvert_exporter": "python",
   "pygments_lexer": "ipython3",
   "version": "3.13.6"
  }
 },
 "nbformat": 4,
 "nbformat_minor": 5
}
